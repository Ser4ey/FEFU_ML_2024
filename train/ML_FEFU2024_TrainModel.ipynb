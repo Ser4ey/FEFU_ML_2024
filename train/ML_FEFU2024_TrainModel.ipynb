{
  "cells": [
    {
      "cell_type": "markdown",
      "metadata": {
        "id": "ps6VA4r1C_wm"
      },
      "source": [
        "# Обучение модели"
      ]
    },
    {
      "cell_type": "code",
      "execution_count": null,
      "metadata": {
        "id": "T6hmBuIyjRUu"
      },
      "outputs": [],
      "source": [
        "import os\n",
        "import numpy as np\n",
        "import tensorflow as tf\n",
        "from tensorflow import keras\n",
        "from tensorflow.keras.models import Sequential\n",
        "from tensorflow.keras.layers import Conv2D, MaxPooling2D, Dense, Flatten, Dropout\n",
        "from tensorflow.keras import utils\n",
        "from tensorflow.keras.preprocessing import image\n",
        "from tensorflow.keras.preprocessing import image_dataset_from_directory\n",
        "import matplotlib.pyplot as plt\n",
        "from google.colab import files\n",
        "%matplotlib inline"
      ]
    },
    {
      "cell_type": "markdown",
      "metadata": {
        "id": "xW1S04zYCPtc"
      },
      "source": [
        "## Загружаем данные"
      ]
    },
    {
      "cell_type": "code",
      "execution_count": null,
      "metadata": {
        "id": "aUmBByJl_nGX"
      },
      "outputs": [],
      "source": [
        "# имортируем необходимые библиотеки\n",
        "from google.colab import drive\n",
        "import os\n",
        "import subprocess\n"
      ]
    },
    {
      "cell_type": "code",
      "execution_count": null,
      "metadata": {
        "cellView": "both",
        "colab": {
          "base_uri": "https://localhost:8080/"
        },
        "id": "jGcvYv5S_1gW",
        "outputId": "f710be23-f940-4007-f6ed-1a8db58b51d3"
      },
      "outputs": [
        {
          "output_type": "stream",
          "name": "stdout",
          "text": [
            "Mounted at /content/drive\n"
          ]
        }
      ],
      "source": [
        "# Подключитесь к Google Drive\n",
        "drive.mount('/content/drive')"
      ]
    },
    {
      "cell_type": "code",
      "execution_count": null,
      "metadata": {
        "collapsed": true,
        "id": "2G4TVe7gKzb8"
      },
      "outputs": [],
      "source": [
        "!unzip \"/content/drive/My Drive/FEFU/Cyrillic_Test.zip\""
      ]
    },
    {
      "cell_type": "code",
      "execution_count": null,
      "metadata": {
        "collapsed": true,
        "id": "1KxX3kVXwZ_f"
      },
      "outputs": [],
      "source": [
        "!unzip \"/content/drive/My Drive/FEFU/Cyrillic_Train_Validation.zip\""
      ]
    },
    {
      "cell_type": "code",
      "execution_count": null,
      "metadata": {
        "collapsed": true,
        "id": "VqKrqAJ01OCO"
      },
      "outputs": [],
      "source": [
        "!unzip \"/content/drive/My Drive/FEFU/Cyrillic_Train_Validation_314.zip\""
      ]
    },
    {
      "cell_type": "code",
      "execution_count": null,
      "metadata": {
        "id": "6Ksic62SV2ln"
      },
      "outputs": [],
      "source": [
        "# !rm -rf Cyrillic_Train_Validation_314"
      ]
    },
    {
      "cell_type": "markdown",
      "metadata": {
        "id": "rPN6v-9vxMqc"
      },
      "source": [
        "## Создаем Tensorflow Dataset'ы"
      ]
    },
    {
      "cell_type": "code",
      "execution_count": null,
      "metadata": {
        "id": "hu4_dneUYa6Z"
      },
      "outputs": [],
      "source": [
        "# batch_size=32\n",
        "batch_size=1024\n",
        "\n",
        "image_size=(28, 28)"
      ]
    },
    {
      "cell_type": "code",
      "execution_count": null,
      "metadata": {
        "id": "X1d6_ud8Pa7s"
      },
      "outputs": [],
      "source": [
        "from tensorflow.keras import layers\n",
        "\n",
        "# Создаем слой нормализации\n",
        "rescale = layers.Rescaling(1./255)\n",
        "\n",
        "# Применяем слой к вашему набору данных\n",
        "# train_dataset = train_dataset.map(lambda x, y: (rescale(x), y))"
      ]
    },
    {
      "cell_type": "markdown",
      "metadata": {
        "id": "u51q8mc1CxY1"
      },
      "source": [
        "**Набор данных для обучения**"
      ]
    },
    {
      "cell_type": "code",
      "execution_count": null,
      "metadata": {
        "colab": {
          "base_uri": "https://localhost:8080/"
        },
        "id": "AH3dDLUQAHo7",
        "outputId": "b76dd199-37cd-489a-9bce-81a1129738f1"
      },
      "outputs": [
        {
          "output_type": "stream",
          "name": "stdout",
          "text": [
            "Found 227750 files belonging to 33 classes.\n",
            "Using 182200 files for training.\n"
          ]
        }
      ],
      "source": [
        "train_dataset = image_dataset_from_directory('Cyrillic_Train_Validation_314',\n",
        "                                             subset='training',\n",
        "                                             seed=42,\n",
        "                                             validation_split=0.2,\n",
        "                                             batch_size=batch_size,\n",
        "                                             color_mode=\"grayscale\",\n",
        "                                             image_size=image_size)\n",
        "\n",
        "\n",
        "r_train_dataset = train_dataset.map(lambda x, y: (rescale(x), y))"
      ]
    },
    {
      "cell_type": "markdown",
      "metadata": {
        "id": "35H5bgtTxYc8"
      },
      "source": [
        "**Проверочный набор данных**"
      ]
    },
    {
      "cell_type": "code",
      "execution_count": null,
      "metadata": {
        "colab": {
          "base_uri": "https://localhost:8080/"
        },
        "id": "spLBXS39Lhra",
        "outputId": "bea8d088-fb46-4843-997e-9be7f5db7deb"
      },
      "outputs": [
        {
          "output_type": "stream",
          "name": "stdout",
          "text": [
            "Found 227750 files belonging to 33 classes.\n",
            "Using 45550 files for validation.\n"
          ]
        }
      ],
      "source": [
        "validation_dataset = image_dataset_from_directory('Cyrillic_Train_Validation_314',\n",
        "                                             subset='validation',\n",
        "                                             seed=42,\n",
        "                                             validation_split=0.2,\n",
        "                                             batch_size=batch_size,\n",
        "                                             color_mode=\"grayscale\",\n",
        "                                             image_size=image_size)\n",
        "\n",
        "r_validation_dataset = validation_dataset.map(lambda x, y: (rescale(x), y))"
      ]
    },
    {
      "cell_type": "markdown",
      "metadata": {
        "id": "8klxjiS1xfzM"
      },
      "source": [
        "Названия классов в наборах данных."
      ]
    },
    {
      "cell_type": "code",
      "execution_count": null,
      "metadata": {
        "colab": {
          "base_uri": "https://localhost:8080/"
        },
        "id": "D3Thtg-IDaWy",
        "outputId": "d6a4e783-0e8a-4313-9229-07e2f98bb3ba"
      },
      "outputs": [
        {
          "output_type": "execute_result",
          "data": {
            "text/plain": [
              "['Ё',\n",
              " 'А',\n",
              " 'Б',\n",
              " 'В',\n",
              " 'Г',\n",
              " 'Д',\n",
              " 'Е',\n",
              " 'Ж',\n",
              " 'З',\n",
              " 'И',\n",
              " 'Й',\n",
              " 'К',\n",
              " 'Л',\n",
              " 'М',\n",
              " 'Н',\n",
              " 'О',\n",
              " 'П',\n",
              " 'Р',\n",
              " 'С',\n",
              " 'Т',\n",
              " 'У',\n",
              " 'Ф',\n",
              " 'Х',\n",
              " 'Ц',\n",
              " 'Ч',\n",
              " 'Ш',\n",
              " 'Щ',\n",
              " 'Ъ',\n",
              " 'Ы',\n",
              " 'Ь',\n",
              " 'Э',\n",
              " 'Ю',\n",
              " 'Я']"
            ]
          },
          "metadata": {},
          "execution_count": 12
        }
      ],
      "source": [
        "class_names = train_dataset.class_names\n",
        "class_names"
      ]
    },
    {
      "cell_type": "markdown",
      "metadata": {
        "id": "VMNZ9fF8xkZq"
      },
      "source": [
        "**Примеры изображений**"
      ]
    },
    {
      "cell_type": "code",
      "execution_count": null,
      "metadata": {
        "colab": {
          "base_uri": "https://localhost:8080/",
          "height": 675
        },
        "id": "CxnwoDynDYbc",
        "outputId": "572335a9-15f8-45ae-a75d-9ca468f9a94a"
      },
      "outputs": [
        {
          "output_type": "display_data",
          "data": {
            "text/plain": [
              "<Figure size 800x800 with 8 Axes>"
            ],
            "image/png": "[encoded data removed]"
          },
          "metadata": {}
        }
      ],
      "source": [
        "import matplotlib.pyplot as plt\n",
        "\n",
        "plt.figure(figsize=(8, 8))\n",
        "for images, labels in r_train_dataset.take(1):\n",
        "  for i in range(8):\n",
        "    ax = plt.subplot(3, 3, i + 1)\n",
        "    plt.imshow(images[i].numpy().astype(\"uint8\"))\n",
        "    plt.title(class_names[labels[i]])\n",
        "    plt.axis(\"off\")"
      ]
    },
    {
      "cell_type": "markdown",
      "metadata": {
        "id": "-sAk0diLC6jC"
      },
      "source": [
        "**Набор данных для тестирования**"
      ]
    },
    {
      "cell_type": "code",
      "execution_count": null,
      "metadata": {
        "colab": {
          "base_uri": "https://localhost:8080/"
        },
        "id": "QmiYmGFhDP8s",
        "outputId": "7e438bcd-1ad5-4d62-fd46-73b5e41e9a3e"
      },
      "outputs": [
        {
          "output_type": "stream",
          "name": "stdout",
          "text": [
            "Found 990 files belonging to 33 classes.\n"
          ]
        }
      ],
      "source": [
        "test_dataset = image_dataset_from_directory('Cyrillic_Test',\n",
        "                                             batch_size=batch_size,\n",
        "                                             color_mode=\"grayscale\",\n",
        "                                             image_size=image_size)\n",
        "\n",
        "r_test_dataset = test_dataset.map(lambda x, y: (rescale(x), y))"
      ]
    },
    {
      "cell_type": "code",
      "execution_count": null,
      "metadata": {
        "colab": {
          "base_uri": "https://localhost:8080/"
        },
        "collapsed": true,
        "id": "9H9MnpTaDry6",
        "outputId": "861738cd-5be1-4cf3-9e93-58c376bb39b5"
      },
      "outputs": [
        {
          "output_type": "execute_result",
          "data": {
            "text/plain": [
              "['Ё',\n",
              " 'А',\n",
              " 'Б',\n",
              " 'В',\n",
              " 'Г',\n",
              " 'Д',\n",
              " 'Е',\n",
              " 'Ж',\n",
              " 'З',\n",
              " 'И',\n",
              " 'Й',\n",
              " 'К',\n",
              " 'Л',\n",
              " 'М',\n",
              " 'Н',\n",
              " 'О',\n",
              " 'П',\n",
              " 'Р',\n",
              " 'С',\n",
              " 'Т',\n",
              " 'У',\n",
              " 'Ф',\n",
              " 'Х',\n",
              " 'Ц',\n",
              " 'Ч',\n",
              " 'Ш',\n",
              " 'Щ',\n",
              " 'Ъ',\n",
              " 'Ы',\n",
              " 'Ь',\n",
              " 'Э',\n",
              " 'Ю',\n",
              " 'Я']"
            ]
          },
          "metadata": {},
          "execution_count": 19
        }
      ],
      "source": [
        "test_dataset.class_names"
      ]
    },
    {
      "cell_type": "markdown",
      "metadata": {
        "id": "YXTvZP4cyScr"
      },
      "source": [
        "## Настраиваем производительность TensorFlow DataSet'ов"
      ]
    },
    {
      "cell_type": "code",
      "execution_count": null,
      "metadata": {
        "id": "6viec98IMC74"
      },
      "outputs": [],
      "source": [
        "AUTOTUNE = tf.data.experimental.AUTOTUNE\n",
        "\n",
        "r_train_dataset = r_train_dataset.prefetch(buffer_size=AUTOTUNE)\n",
        "r_validation_dataset = r_validation_dataset.prefetch(buffer_size=AUTOTUNE)\n",
        "r_test_dataset = r_test_dataset.prefetch(buffer_size=AUTOTUNE)"
      ]
    },
    {
      "cell_type": "markdown",
      "metadata": {
        "id": "mnT8h77PFLXu"
      },
      "source": [
        "## Создаем нейронную сеть"
      ]
    },
    {
      "cell_type": "code",
      "execution_count": null,
      "metadata": {
        "id": "5XgpwP2Xshto"
      },
      "outputs": [],
      "source": [
        "# 4ms/step - loss: 0.0735 - accuracy: 0.9798 - sparse_categorical_accuracy: 0.9798\n",
        "#21ms/step - loss: 0.1131 - accuracy: 0.9646 - sparse_categorical_accuracy: 0.9646\n",
        "\n",
        "\n",
        "model = Sequential()\n",
        "# Сверточный слой\n",
        "model.add(Conv2D(16, (3, 3), padding='same',\n",
        "                 input_shape=(28, 28, 1), activation='relu'))\n",
        "# Слой подвыборки\n",
        "model.add(MaxPooling2D(pool_size=(2, 2)))\n",
        "# Сверточный слой\n",
        "model.add(Conv2D(32, (3, 3), activation='relu', padding='same'))\n",
        "# Слой подвыборки\n",
        "model.add(MaxPooling2D(pool_size=(2, 2)))\n",
        "# Сверточный слой\n",
        "model.add(Conv2D(64, (5, 5), activation='relu', padding='same'))\n",
        "# Слой подвыборки\n",
        "model.add(MaxPooling2D(pool_size=(2, 2)))\n",
        "\n",
        "\n",
        "# Полносвязная часть нейронной сети для классификации\n",
        "model.add(Flatten())\n",
        "model.add(Dense(512, activation='relu'))\n",
        "model.add(Dropout(0.2))\n",
        "model.add(Dense(256, activation='relu'))\n",
        "model.add(Dropout(0.2))\n",
        "# Выходной слой, 33 нейрон по количеству классов\n",
        "model.add(Dense(33, activation='softmax'))\n"
      ]
    },
    {
      "cell_type": "markdown",
      "metadata": {
        "id": "iZ8E1aF0FS1s"
      },
      "source": [
        "**Компилируем модель**"
      ]
    },
    {
      "cell_type": "code",
      "execution_count": null,
      "metadata": {
        "id": "VyVlJMdGkrv-"
      },
      "outputs": [],
      "source": [
        "model.compile(loss='sparse_categorical_crossentropy',\n",
        "              optimizer=\"adam\",\n",
        "              metrics=['accuracy', 'sparse_categorical_accuracy'])"
      ]
    },
    {
      "cell_type": "code",
      "execution_count": null,
      "metadata": {
        "colab": {
          "base_uri": "https://localhost:8080/"
        },
        "collapsed": true,
        "id": "pJ5f1TgHrlzn",
        "outputId": "ef3a18f1-25de-416e-ab2b-b01682e75682"
      },
      "outputs": [
        {
          "output_type": "stream",
          "name": "stdout",
          "text": [
            "Model: \"sequential\"\n",
            "_________________________________________________________________\n",
            " Layer (type)                Output Shape              Param #   \n",
            "=================================================================\n",
            " conv2d (Conv2D)             (None, 28, 28, 16)        160       \n",
            "                                                                 \n",
            " max_pooling2d (MaxPooling2  (None, 14, 14, 16)        0         \n",
            " D)                                                              \n",
            "                                                                 \n",
            " conv2d_1 (Conv2D)           (None, 14, 14, 32)        4640      \n",
            "                                                                 \n",
            " max_pooling2d_1 (MaxPoolin  (None, 7, 7, 32)          0         \n",
            " g2D)                                                            \n",
            "                                                                 \n",
            " conv2d_2 (Conv2D)           (None, 7, 7, 64)          51264     \n",
            "                                                                 \n",
            " max_pooling2d_2 (MaxPoolin  (None, 3, 3, 64)          0         \n",
            " g2D)                                                            \n",
            "                                                                 \n",
            " flatten (Flatten)           (None, 576)               0         \n",
            "                                                                 \n",
            " dense (Dense)               (None, 512)               295424    \n",
            "                                                                 \n",
            " dropout (Dropout)           (None, 512)               0         \n",
            "                                                                 \n",
            " dense_1 (Dense)             (None, 256)               131328    \n",
            "                                                                 \n",
            " dropout_1 (Dropout)         (None, 256)               0         \n",
            "                                                                 \n",
            " dense_2 (Dense)             (None, 33)                8481      \n",
            "                                                                 \n",
            "=================================================================\n",
            "Total params: 491297 (1.87 MB)\n",
            "Trainable params: 491297 (1.87 MB)\n",
            "Non-trainable params: 0 (0.00 Byte)\n",
            "_________________________________________________________________\n"
          ]
        }
      ],
      "source": [
        "model.summary()\n"
      ]
    },
    {
      "cell_type": "markdown",
      "metadata": {
        "id": "Aq23si1YFYhF"
      },
      "source": [
        "## Обучаем нейронную сеть"
      ]
    },
    {
      "cell_type": "code",
      "execution_count": null,
      "metadata": {
        "colab": {
          "base_uri": "https://localhost:8080/"
        },
        "id": "kyH5Ec9RkznF",
        "outputId": "1e57cac1-3563-4bd3-a80f-202946fabc3d"
      },
      "outputs": [
        {
          "output_type": "stream",
          "name": "stdout",
          "text": [
            "Epoch 1/10\n",
            "178/178 [==============================] - 17s 89ms/step - loss: 2.2819 - accuracy: 0.3439 - sparse_categorical_accuracy: 0.3439 - val_loss: 1.1589 - val_accuracy: 0.6675 - val_sparse_categorical_accuracy: 0.6675\n",
            "Epoch 2/10\n",
            "178/178 [==============================] - 16s 87ms/step - loss: 0.9682 - accuracy: 0.7027 - sparse_categorical_accuracy: 0.7027 - val_loss: 0.6592 - val_accuracy: 0.7978 - val_sparse_categorical_accuracy: 0.7978\n",
            "Epoch 3/10\n",
            "178/178 [==============================] - 16s 88ms/step - loss: 0.6198 - accuracy: 0.8039 - sparse_categorical_accuracy: 0.8039 - val_loss: 0.4321 - val_accuracy: 0.8659 - val_sparse_categorical_accuracy: 0.8659\n",
            "Epoch 4/10\n",
            "178/178 [==============================] - 16s 87ms/step - loss: 0.4665 - accuracy: 0.8513 - sparse_categorical_accuracy: 0.8513 - val_loss: 0.3292 - val_accuracy: 0.8955 - val_sparse_categorical_accuracy: 0.8955\n",
            "Epoch 5/10\n",
            "178/178 [==============================] - 16s 90ms/step - loss: 0.3733 - accuracy: 0.8795 - sparse_categorical_accuracy: 0.8795 - val_loss: 0.2740 - val_accuracy: 0.9139 - val_sparse_categorical_accuracy: 0.9139\n",
            "Epoch 6/10\n",
            "178/178 [==============================] - 15s 85ms/step - loss: 0.3178 - accuracy: 0.8966 - sparse_categorical_accuracy: 0.8966 - val_loss: 0.2449 - val_accuracy: 0.9225 - val_sparse_categorical_accuracy: 0.9225\n",
            "Epoch 7/10\n",
            "178/178 [==============================] - 16s 87ms/step - loss: 0.2695 - accuracy: 0.9118 - sparse_categorical_accuracy: 0.9118 - val_loss: 0.2127 - val_accuracy: 0.9323 - val_sparse_categorical_accuracy: 0.9323\n",
            "Epoch 8/10\n",
            "178/178 [==============================] - 15s 83ms/step - loss: 0.2369 - accuracy: 0.9215 - sparse_categorical_accuracy: 0.9215 - val_loss: 0.1912 - val_accuracy: 0.9378 - val_sparse_categorical_accuracy: 0.9378\n",
            "Epoch 9/10\n",
            "178/178 [==============================] - 15s 85ms/step - loss: 0.2073 - accuracy: 0.9307 - sparse_categorical_accuracy: 0.9307 - val_loss: 0.1655 - val_accuracy: 0.9471 - val_sparse_categorical_accuracy: 0.9471\n",
            "Epoch 10/10\n",
            "178/178 [==============================] - 16s 86ms/step - loss: 0.1865 - accuracy: 0.9368 - sparse_categorical_accuracy: 0.9368 - val_loss: 0.1519 - val_accuracy: 0.9502 - val_sparse_categorical_accuracy: 0.9502\n"
          ]
        }
      ],
      "source": [
        "history = model.fit(r_train_dataset,\n",
        "                    validation_data=r_validation_dataset,\n",
        "                    epochs=10,\n",
        "                    verbose=1)"
      ]
    },
    {
      "cell_type": "markdown",
      "metadata": {
        "id": "bHssPqMqF9sv"
      },
      "source": [
        "## Оцениваем качетсво обучения сети"
      ]
    },
    {
      "cell_type": "code",
      "execution_count": null,
      "metadata": {
        "colab": {
          "base_uri": "https://localhost:8080/"
        },
        "id": "5y4AHwlNou5y",
        "outputId": "73f0b0be-dc38-49b7-af5e-40e9804901f1"
      },
      "outputs": [
        {
          "output_type": "stream",
          "name": "stdout",
          "text": [
            "1/1 [==============================] - 0s 102ms/step - loss: 0.0846 - accuracy: 0.9768 - sparse_categorical_accuracy: 0.9768\n"
          ]
        }
      ],
      "source": [
        "# Оцениваем качество обучения модели на тестовых данных\n",
        "scores = model.evaluate(r_test_dataset, verbose=1)"
      ]
    },
    {
      "cell_type": "code",
      "execution_count": null,
      "metadata": {
        "colab": {
          "base_uri": "https://localhost:8080/"
        },
        "id": "fd1Xgsc77dOa",
        "outputId": "68542ea0-6bce-483e-dfa9-57031eec0c17"
      },
      "outputs": [
        {
          "output_type": "stream",
          "name": "stdout",
          "text": [
            "Доля верных ответов на тестовых данных, в процентах: 97.6768\n"
          ]
        }
      ],
      "source": [
        "print(\"Доля верных ответов на тестовых данных, в процентах:\", round(scores[1] * 100, 4))"
      ]
    },
    {
      "cell_type": "code",
      "execution_count": null,
      "metadata": {
        "colab": {
          "base_uri": "https://localhost:8080/",
          "height": 449
        },
        "id": "laDVE2Zx5adS",
        "outputId": "0da6a314-4abd-41a7-cdd8-24ffd6721a5d"
      },
      "outputs": [
        {
          "output_type": "display_data",
          "data": {
            "text/plain": [
              "<Figure size 640x480 with 1 Axes>"
            ],
            "image/png": "[encoded data removed]"
          },
          "metadata": {}
        }
      ],
      "source": [
        "plt.plot(history.history['accuracy'],\n",
        "         label='Доля верных ответов на обучающем наборе')\n",
        "plt.plot(history.history['val_accuracy'],\n",
        "         label='Доля верных ответов на проверочном наборе')\n",
        "plt.xlabel('Эпоха обучения')\n",
        "plt.ylabel('Доля верных ответов')\n",
        "plt.legend()\n",
        "plt.show()"
      ]
    },
    {
      "cell_type": "code",
      "execution_count": null,
      "metadata": {
        "colab": {
          "base_uri": "https://localhost:8080/",
          "height": 449
        },
        "id": "wkFdAaRO5rlr",
        "outputId": "0cb41433-1a61-4115-c055-0747258e4118"
      },
      "outputs": [
        {
          "output_type": "display_data",
          "data": {
            "text/plain": [
              "<Figure size 640x480 with 1 Axes>"
            ],
            "image/png": "[encoded data removed]"
          },
          "metadata": {}
        }
      ],
      "source": [
        "plt.plot(history.history['loss'],\n",
        "         label='Ошибка на обучающем наборе')\n",
        "plt.plot(history.history['val_loss'],\n",
        "         label='Ошибка на проверочном наборе')\n",
        "plt.xlabel('Эпоха обучения')\n",
        "plt.ylabel('Ошибка')\n",
        "plt.legend()\n",
        "plt.show()"
      ]
    },
    {
      "cell_type": "code",
      "execution_count": null,
      "metadata": {
        "id": "k-OnDoJnpX65"
      },
      "outputs": [],
      "source": [
        "# # загрузить свою модель\n",
        "# from keras.models import load_model\n",
        "\n",
        "# model = load_model('100v.h5')\n"
      ]
    },
    {
      "cell_type": "code",
      "execution_count": null,
      "metadata": {
        "colab": {
          "base_uri": "https://localhost:8080/"
        },
        "id": "brH8yCZHpvni",
        "outputId": "bff37126-4aaa-429c-84c3-d74854b2fd39"
      },
      "outputs": [
        {
          "name": "stdout",
          "output_type": "stream",
          "text": [
            "1/1 [==============================] - 2s 2s/step - loss: 0.0446 - accuracy: 0.9879 - sparse_categorical_accuracy: 0.9879\n",
            "Доля верных ответов на тестовых данных, в процентах: 98.7879\n"
          ]
        }
      ],
      "source": [
        "\n",
        "scores = model.evaluate(r_test_dataset, verbose=1)\n",
        "print(\"Доля верных ответов на тестовых данных, в процентах:\", round(scores[1] * 100, 4))\n"
      ]
    },
    {
      "cell_type": "code",
      "execution_count": null,
      "metadata": {
        "colab": {
          "base_uri": "https://localhost:8080/",
          "height": 673
        },
        "id": "v2JiONonasFc",
        "outputId": "c080c73c-8726-4158-a8a6-4fafcfa0fcb8"
      },
      "outputs": [
        {
          "output_type": "display_data",
          "data": {
            "text/plain": [
              "<Figure size 640x480 with 1 Axes>"
            ],
            "image/png": "[encoded data removed]"
          },
          "metadata": {}
        },
        {
          "output_type": "stream",
          "name": "stdout",
          "text": [
            "1/1 [==============================] - 0s 25ms/step\n",
            "[[6.3262290e-10 9.6924887e-05 1.9439254e-07 2.7519695e-09 3.7666380e-12\n",
            "  2.2558382e-07 6.0152189e-07 1.2436621e-04 6.9871486e-19 1.1115646e-14\n",
            "  2.5457270e-14 9.9810398e-01 3.8452475e-15 3.6437552e-07 9.2833786e-04\n",
            "  1.4381652e-13 3.9778955e-05 2.5147135e-12 5.4126040e-11 7.0449861e-04\n",
            "  7.2704147e-13 2.9123765e-08 5.6951222e-07 2.6507006e-13 6.6893798e-17\n",
            "  4.7741016e-11 9.2780201e-14 1.5627516e-10 1.5011747e-08 7.2662310e-12\n",
            "  1.4068790e-18 6.1133107e-08 1.2949105e-12]]\n",
            "11\n",
            "К\n",
            "1/1 [==============================] - 0s 24ms/step\n",
            "Class: К, Probability: 99.81%\n",
            "Class: Н, Probability: 0.09%\n",
            "Class: Т, Probability: 0.07%\n"
          ]
        }
      ],
      "source": [
        "from PIL import Image\n",
        "import numpy as np\n",
        "\n",
        "from keras.preprocessing.image import load_img\n",
        "from keras.preprocessing.image import img_to_array\n",
        "import matplotlib.pyplot as plt\n",
        "\n",
        "\n",
        "image = keras.utils.load_img(\n",
        "    \"/content/drive/MyDrive/FEFU/4.jpg\",\n",
        "    target_size=(28, 28),\n",
        "    color_mode=\"grayscale\"\n",
        ")\n",
        "image = rescale(image)\n",
        "\n",
        "image_array = img_to_array(image)\n",
        "# Вывод изображения\n",
        "plt.imshow(image_array.astype('uint8'))\n",
        "plt.show()\n",
        "\n",
        "\n",
        "input_arr = keras.utils.img_to_array(image)\n",
        "input_arr = np.array([input_arr])  # Convert single image to a batch.\n",
        "\n",
        "res = model.predict(input_arr)\n",
        "\n",
        "\n",
        "# res = model.predict(img_array)\n",
        "print(res)\n",
        "print(np.argmax(res))\n",
        "print(class_names[np.argmax(res)])\n",
        "\n",
        "\n",
        "import numpy as np\n",
        "# Предсказание вероятностей для изображения\n",
        "res = model.predict(input_arr)\n",
        "\n",
        "# Получение индексов отсортированных по вероятности классов\n",
        "sorted_indices = np.argsort(res[0])[::-1]\n",
        "\n",
        "# Вывод трех самых вероятных результатов и их процентных вероятностей\n",
        "for i in range(3):\n",
        "    index = sorted_indices[i]\n",
        "    print(f\"Class: {class_names[index]}, Probability: {res[0][index] * 100:.2f}%\")"
      ]
    },
    {
      "cell_type": "markdown",
      "metadata": {
        "id": "9Ax2lw6hRDlm"
      },
      "source": [
        "## Сохраняем обученную нейронную сеть"
      ]
    },
    {
      "cell_type": "code",
      "execution_count": null,
      "metadata": {
        "colab": {
          "base_uri": "https://localhost:8080/"
        },
        "id": "uQhkelwPQ_PE",
        "outputId": "37e689b3-8127-4890-8d0d-767fb4e45e4f"
      },
      "outputs": [
        {
          "output_type": "stream",
          "name": "stderr",
          "text": [
            "/usr/local/lib/python3.10/dist-packages/keras/src/engine/training.py:3103: UserWarning: You are saving your model as an HDF5 file via `model.save()`. This file format is considered legacy. We recommend using instead the native Keras format, e.g. `model.save('my_model.keras')`.\n",
            "  saving_api.save_model(\n"
          ]
        }
      ],
      "source": [
        "model.save(\"100.h5\")"
      ]
    },
    {
      "cell_type": "markdown",
      "metadata": {
        "id": "V5rJhacl6isx"
      },
      "source": [
        "Сохраняем модель на локальный компьютер"
      ]
    },
    {
      "cell_type": "code",
      "execution_count": null,
      "metadata": {
        "colab": {
          "base_uri": "https://localhost:8080/",
          "height": 34
        },
        "id": "rV8R1WhKVpZK",
        "outputId": "fe729c3d-e047-4de7-b0bd-3ccd8442b3ab"
      },
      "outputs": [
        {
          "output_type": "display_data",
          "data": {
            "text/plain": [
              "<IPython.core.display.Javascript object>"
            ],
            "application/javascript": [
              "\n",
              "    async function download(id, filename, size) {\n",
              "      if (!google.colab.kernel.accessAllowed) {\n",
              "        return;\n",
              "      }\n",
              "      const div = document.createElement('div');\n",
              "      const label = document.createElement('label');\n",
              "      label.textContent = `Downloading \"${filename}\": `;\n",
              "      div.appendChild(label);\n",
              "      const progress = document.createElement('progress');\n",
              "      progress.max = size;\n",
              "      div.appendChild(progress);\n",
              "      document.body.appendChild(div);\n",
              "\n",
              "      const buffers = [];\n",
              "      let downloaded = 0;\n",
              "\n",
              "      const channel = await google.colab.kernel.comms.open(id);\n",
              "      // Send a message to notify the kernel that we're ready.\n",
              "      channel.send({})\n",
              "\n",
              "      for await (const message of channel.messages) {\n",
              "        // Send a message to notify the kernel that we're ready.\n",
              "        channel.send({})\n",
              "        if (message.buffers) {\n",
              "          for (const buffer of message.buffers) {\n",
              "            buffers.push(buffer);\n",
              "            downloaded += buffer.byteLength;\n",
              "            progress.value = downloaded;\n",
              "          }\n",
              "        }\n",
              "      }\n",
              "      const blob = new Blob(buffers, {type: 'application/binary'});\n",
              "      const a = document.createElement('a');\n",
              "      a.href = window.URL.createObjectURL(blob);\n",
              "      a.download = filename;\n",
              "      div.appendChild(a);\n",
              "      a.click();\n",
              "      div.remove();\n",
              "    }\n",
              "  "
            ]
          },
          "metadata": {}
        },
        {
          "output_type": "display_data",
          "data": {
            "text/plain": [
              "<IPython.core.display.Javascript object>"
            ],
            "application/javascript": [
              "download(\"download_f468849c-2569-4790-b14c-86887f7e0742\", \"100.h5\", 5955248)"
            ]
          },
          "metadata": {}
        }
      ],
      "source": [
        "files.download(\"100.h5\")"
      ]
    }
  ],
  "metadata": {
    "accelerator": "TPU",
    "colab": {
      "gpuType": "V28",
      "provenance": []
    },
    "kernelspec": {
      "display_name": "Python 3",
      "name": "python3"
    }
  },
  "nbformat": 4,
  "nbformat_minor": 0
}